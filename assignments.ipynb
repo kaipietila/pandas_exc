{
 "cells": [
  {
   "cell_type": "markdown",
   "id": "alone-programming",
   "metadata": {},
   "source": [
    "Assignment 1:\n",
    "Use get_balance_for_date to get balance for any date during the year starting from the value provided for the start of the year."
   ]
  },
  {
   "cell_type": "code",
   "execution_count": 112,
   "id": "written-bristol",
   "metadata": {},
   "outputs": [],
   "source": [
    "import pandas as pd\n",
    "data = pd.read_csv('T1_input.csv')"
   ]
  },
  {
   "cell_type": "code",
   "execution_count": 113,
   "id": "oriented-member",
   "metadata": {},
   "outputs": [],
   "source": [
    "data['date'] = pd.to_datetime(data['bookingDate']).dt.date"
   ]
  },
  {
   "cell_type": "code",
   "execution_count": 117,
   "id": "provincial-orbit",
   "metadata": {},
   "outputs": [],
   "source": [
    "def get_balance_for_date(date):\n",
    "    initial_amount_soy = 1773.80\n",
    "    # use format 2018-12-31\n",
    "    df = data.copy()\n",
    "    df['earlier_than_date'] = data['date'] <= pd.to_datetime(date)\n",
    "    rows = df.loc[df['earlier_than_date'] == True]\n",
    "    amount = sum(rows['amount'])\n",
    "    return sum([initial_amount_soy, amount])"
   ]
  },
  {
   "cell_type": "code",
   "execution_count": 187,
   "id": "certified-piece",
   "metadata": {},
   "outputs": [],
   "source": [
    "balance_10_oct = get_balance_for_date('2018-10-01')\n",
    "balance_31_jan = get_balance_for_date('2018-01-31')"
   ]
  },
  {
   "cell_type": "code",
   "execution_count": 189,
   "id": "tribal-florist",
   "metadata": {},
   "outputs": [
    {
     "data": {
      "text/plain": [
       "(2600.6000000000004, 1787.9999999999998)"
      ]
     },
     "execution_count": 189,
     "metadata": {},
     "output_type": "execute_result"
    }
   ],
   "source": [
    "balance_10_oct, balance_31_jan"
   ]
  },
  {
   "cell_type": "markdown",
   "id": "shaped-munich",
   "metadata": {},
   "source": [
    "Use function as above to get the balance for a given date"
   ]
  },
  {
   "cell_type": "markdown",
   "id": "arbitrary-witness",
   "metadata": {},
   "source": [
    "Assignment dos:\n"
   ]
  },
  {
   "cell_type": "code",
   "execution_count": 148,
   "id": "clean-reality",
   "metadata": {},
   "outputs": [],
   "source": [
    "data_two = pd.read_csv('T2_input.txt', delimiter=\"\\t\", header=None)"
   ]
  },
  {
   "cell_type": "code",
   "execution_count": 149,
   "id": "prescribed-caribbean",
   "metadata": {},
   "outputs": [],
   "source": [
    "data_two['min'] = data_two.agg('min', axis='columns')\n",
    "data_two['max'] = data_two.agg('max', axis='columns')\n",
    "data_two['mean'] = data_two.agg('mean', axis=\"columns\")"
   ]
  },
  {
   "cell_type": "code",
   "execution_count": 193,
   "id": "becoming-stranger",
   "metadata": {},
   "outputs": [
    {
     "data": {
      "text/plain": [
       "mean    1478.635417\n",
       "Name: mean, dtype: float64"
      ]
     },
     "execution_count": 193,
     "metadata": {},
     "output_type": "execute_result"
    }
   ],
   "source": [
    "# get the mean of all means\n",
    "mean_of_means = data_two['mean'].agg(['mean'], axis=0)\n",
    "mean_of_means"
   ]
  },
  {
   "cell_type": "code",
   "execution_count": 194,
   "id": "synthetic-cycling",
   "metadata": {},
   "outputs": [
    {
     "data": {
      "text/plain": [
       "(11, 7)"
      ]
     },
     "execution_count": 194,
     "metadata": {},
     "output_type": "execute_result"
    }
   ],
   "source": [
    "# get which row has the lowest/highest mean\n",
    "max_mean_row = data_two['mean'].argmax()\n",
    "min_mean_row = data_two['mean'].argmin()\n",
    "max_mean_row, min_mean_row"
   ]
  },
  {
   "cell_type": "code",
   "execution_count": 195,
   "id": "partial-portsmouth",
   "metadata": {},
   "outputs": [
    {
     "data": {
      "text/plain": [
       "count      16.000000\n",
       "mean     1478.635417\n",
       "std       802.677128\n",
       "min       661.722222\n",
       "25%       829.888889\n",
       "50%      1085.916667\n",
       "75%      2140.472222\n",
       "max      2777.166667\n",
       "Name: mean, dtype: float64"
      ]
     },
     "execution_count": 195,
     "metadata": {},
     "output_type": "execute_result"
    }
   ],
   "source": [
    "data_two['mean'].describe()"
   ]
  },
  {
   "cell_type": "markdown",
   "id": "handy-trouble",
   "metadata": {},
   "source": [
    "<strong>Results:</strong>\n",
    "\n",
    "Mean of all means is 1478.64\n",
    "<br>\n",
    "Highest mean is on row 11\n",
    "<br>\n",
    "Lowest mean is on row 7"
   ]
  },
  {
   "cell_type": "code",
   "execution_count": null,
   "id": "hired-commonwealth",
   "metadata": {},
   "outputs": [],
   "source": []
  }
 ],
 "metadata": {
  "kernelspec": {
   "display_name": "Python 3",
   "language": "python",
   "name": "python3"
  },
  "language_info": {
   "codemirror_mode": {
    "name": "ipython",
    "version": 3
   },
   "file_extension": ".py",
   "mimetype": "text/x-python",
   "name": "python",
   "nbconvert_exporter": "python",
   "pygments_lexer": "ipython3",
   "version": "3.9.2"
  }
 },
 "nbformat": 4,
 "nbformat_minor": 5
}
